{
  "nbformat": 4,
  "nbformat_minor": 0,
  "metadata": {
    "kernelspec": {
      "display_name": "Python 3",
      "language": "python",
      "name": "python3"
    },
    "language_info": {
      "codemirror_mode": {
        "name": "ipython",
        "version": 3
      },
      "file_extension": ".py",
      "mimetype": "text/x-python",
      "name": "python",
      "nbconvert_exporter": "python",
      "pygments_lexer": "ipython3",
      "version": "3.7.4"
    },
    "colab": {
      "provenance": [],
      "collapsed_sections": [],
      "include_colab_link": true
    }
  },
  "cells": [
    {
      "cell_type": "markdown",
      "metadata": {
        "id": "view-in-github",
        "colab_type": "text"
      },
      "source": [
        "<a href=\"https://colab.research.google.com/github/vanshitaverma/game-theory-w-python/blob/main/game_theory_with_python_notebook.ipynb\" target=\"_parent\"><img src=\"https://colab.research.google.com/assets/colab-badge.svg\" alt=\"Open In Colab\"/></a>"
      ]
    },
    {
      "cell_type": "markdown",
      "metadata": {
        "id": "m80rXVF8I5AN"
      },
      "source": [
        "# Game Theory With Python"
      ]
    },
    {
      "cell_type": "markdown",
      "metadata": {
        "id": "a_WtqfivI5AO"
      },
      "source": [
        "### Welcome to the course. \n",
        "### Glad to have you onboard in this journey to explore two Game Theory packages in Python\n",
        "\n",
        "#### Nashpy & Axelrod"
      ]
    },
    {
      "cell_type": "markdown",
      "metadata": {
        "id": "8gKmBcHBI5AP"
      },
      "source": [
        "#### 7 Tasks\n",
        "#### 1. Create games with Nashpy\n",
        "#### 2. Mixed strategies and Utilities\n",
        "#### 3. Nash Equilibrium\n",
        "#### 4. Games with multiple Nash Equilibria\n",
        "#### 5. Zero Sum Game\n",
        "#### 6. Create repeated game\n",
        "#### 7. Analyze Match"
      ]
    },
    {
      "cell_type": "markdown",
      "metadata": {
        "id": "iQPnHp9SI5AQ"
      },
      "source": [
        "## Two Player Games with Nashpy"
      ]
    },
    {
      "cell_type": "markdown",
      "metadata": {
        "id": "fKYKZgVyI5AR"
      },
      "source": [
        "## 1. Create 2 player games - Using Nashpy\n",
        "\n",
        "### Consider the following Prisoner's Dilemma matrix\n",
        "\n",
        "![picture](https://drive.google.com/uc?id=1fw7j7O8XLGQR3Rt_c9UK_PE6KgLsFeEw)\n"
      ]
    },
    {
      "cell_type": "code",
      "metadata": {
        "id": "vDUwerlDI5AS",
        "colab": {
          "base_uri": "https://localhost:8080/",
          "height": 1000
        },
        "outputId": "1cafca93-43b1-49e4-f787-12ba39435ffe"
      },
      "source": [
        "# Import packages\n",
        "!pip install -U ipython\n",
        "!pip install nashpy\n",
        "!pip install axelrod\n",
        "\n",
        "import nashpy as nash\n",
        "import numpy as np"
      ],
      "execution_count": null,
      "outputs": [
        {
          "output_type": "stream",
          "name": "stdout",
          "text": [
            "Looking in indexes: https://pypi.org/simple, https://us-python.pkg.dev/colab-wheels/public/simple/\n",
            "Requirement already satisfied: ipython in /usr/local/lib/python3.7/dist-packages (7.9.0)\n",
            "Collecting ipython\n",
            "  Downloading ipython-7.34.0-py3-none-any.whl (793 kB)\n",
            "\u001b[K     |████████████████████████████████| 793 kB 6.6 MB/s \n",
            "\u001b[?25hCollecting matplotlib-inline\n",
            "  Downloading matplotlib_inline-0.1.6-py3-none-any.whl (9.4 kB)\n",
            "Requirement already satisfied: traitlets>=4.2 in /usr/local/lib/python3.7/dist-packages (from ipython) (5.1.1)\n",
            "Requirement already satisfied: pickleshare in /usr/local/lib/python3.7/dist-packages (from ipython) (0.7.5)\n",
            "Requirement already satisfied: decorator in /usr/local/lib/python3.7/dist-packages (from ipython) (4.4.2)\n",
            "Collecting jedi>=0.16\n",
            "  Downloading jedi-0.18.1-py2.py3-none-any.whl (1.6 MB)\n",
            "\u001b[K     |████████████████████████████████| 1.6 MB 35.1 MB/s \n",
            "\u001b[?25hRequirement already satisfied: setuptools>=18.5 in /usr/local/lib/python3.7/dist-packages (from ipython) (57.4.0)\n",
            "Requirement already satisfied: pexpect>4.3 in /usr/local/lib/python3.7/dist-packages (from ipython) (4.8.0)\n",
            "Requirement already satisfied: pygments in /usr/local/lib/python3.7/dist-packages (from ipython) (2.6.1)\n",
            "Requirement already satisfied: backcall in /usr/local/lib/python3.7/dist-packages (from ipython) (0.2.0)\n",
            "Requirement already satisfied: prompt-toolkit!=3.0.0,!=3.0.1,<3.1.0,>=2.0.0 in /usr/local/lib/python3.7/dist-packages (from ipython) (2.0.10)\n",
            "Requirement already satisfied: parso<0.9.0,>=0.8.0 in /usr/local/lib/python3.7/dist-packages (from jedi>=0.16->ipython) (0.8.3)\n",
            "Requirement already satisfied: ptyprocess>=0.5 in /usr/local/lib/python3.7/dist-packages (from pexpect>4.3->ipython) (0.7.0)\n",
            "Requirement already satisfied: six>=1.9.0 in /usr/local/lib/python3.7/dist-packages (from prompt-toolkit!=3.0.0,!=3.0.1,<3.1.0,>=2.0.0->ipython) (1.15.0)\n",
            "Requirement already satisfied: wcwidth in /usr/local/lib/python3.7/dist-packages (from prompt-toolkit!=3.0.0,!=3.0.1,<3.1.0,>=2.0.0->ipython) (0.2.5)\n",
            "Installing collected packages: matplotlib-inline, jedi, ipython\n",
            "  Attempting uninstall: ipython\n",
            "    Found existing installation: ipython 7.9.0\n",
            "    Uninstalling ipython-7.9.0:\n",
            "      Successfully uninstalled ipython-7.9.0\n",
            "\u001b[31mERROR: pip's dependency resolver does not currently take into account all the packages that are installed. This behaviour is the source of the following dependency conflicts.\n",
            "google-colab 1.0.0 requires ipython~=7.9.0, but you have ipython 7.34.0 which is incompatible.\u001b[0m\n",
            "Successfully installed ipython-7.34.0 jedi-0.18.1 matplotlib-inline-0.1.6\n"
          ]
        },
        {
          "output_type": "display_data",
          "data": {
            "application/vnd.colab-display-data+json": {
              "pip_warning": {
                "packages": [
                  "IPython"
                ]
              }
            }
          },
          "metadata": {}
        },
        {
          "output_type": "stream",
          "name": "stdout",
          "text": [
            "Looking in indexes: https://pypi.org/simple, https://us-python.pkg.dev/colab-wheels/public/simple/\n",
            "Collecting nashpy\n",
            "  Downloading nashpy-0.0.22.tar.gz (11 kB)\n",
            "\u001b[33mWARNING: Discarding https://files.pythonhosted.org/packages/93/1c/9005c6a0a3a3b183b5b216cc02cef14bb080fd3ee8733a1006fbcd81fffc/nashpy-0.0.22.tar.gz#sha256=9378fd492f01163ac01a7384dd94f7ffa3ce40e31fe2a08844a2e34576b3d8db (from https://pypi.org/simple/nashpy/). Command errored out with exit status 1: python setup.py egg_info Check the logs for full command output.\u001b[0m\n",
            "  Downloading nashpy-0.0.21.tar.gz (11 kB)\n",
            "Requirement already satisfied: numpy>=1.12.1 in /usr/local/lib/python3.7/dist-packages (from nashpy) (1.21.6)\n",
            "Requirement already satisfied: scipy>=0.19.0 in /usr/local/lib/python3.7/dist-packages (from nashpy) (1.7.3)\n",
            "Building wheels for collected packages: nashpy\n",
            "  Building wheel for nashpy (setup.py) ... \u001b[?25l\u001b[?25hdone\n",
            "  Created wheel for nashpy: filename=nashpy-0.0.21-py3-none-any.whl size=15280 sha256=4678080406c77a7188e8bcf3b7a80e90db31fe62906bfbe8f2b0fcb3b45b95a2\n",
            "  Stored in directory: /root/.cache/pip/wheels/02/08/62/cf4fa931e0a317d180936b266169a57f4bb4eb801465bbe8a1\n",
            "Successfully built nashpy\n",
            "Installing collected packages: nashpy\n",
            "Successfully installed nashpy-0.0.21\n",
            "Looking in indexes: https://pypi.org/simple, https://us-python.pkg.dev/colab-wheels/public/simple/\n",
            "Collecting axelrod\n",
            "  Downloading Axelrod-4.12.0-py2.py3-none-any.whl (191 kB)\n",
            "\u001b[K     |████████████████████████████████| 191 kB 6.1 MB/s \n",
            "\u001b[?25hRequirement already satisfied: dask>=2.9.2 in /usr/local/lib/python3.7/dist-packages (from axelrod) (2022.2.0)\n",
            "Requirement already satisfied: fsspec>=0.6.0 in /usr/local/lib/python3.7/dist-packages (from axelrod) (2022.8.2)\n",
            "Requirement already satisfied: toolz>=0.8.2 in /usr/local/lib/python3.7/dist-packages (from axelrod) (0.12.0)\n",
            "Requirement already satisfied: pandas>=1.0.0 in /usr/local/lib/python3.7/dist-packages (from axelrod) (1.3.5)\n",
            "Requirement already satisfied: tqdm>=4.39.0 in /usr/local/lib/python3.7/dist-packages (from axelrod) (4.64.1)\n",
            "Requirement already satisfied: cloudpickle>=0.2.2 in /usr/local/lib/python3.7/dist-packages (from axelrod) (1.5.0)\n",
            "Requirement already satisfied: scipy>=1.3.3 in /usr/local/lib/python3.7/dist-packages (from axelrod) (1.7.3)\n",
            "Requirement already satisfied: pyyaml>=5.1 in /usr/local/lib/python3.7/dist-packages (from axelrod) (6.0)\n",
            "Requirement already satisfied: numpy>=1.17.4 in /usr/local/lib/python3.7/dist-packages (from axelrod) (1.21.6)\n",
            "Collecting docutils<=0.17\n",
            "  Downloading docutils-0.17-py2.py3-none-any.whl (575 kB)\n",
            "\u001b[K     |████████████████████████████████| 575 kB 50.7 MB/s \n",
            "\u001b[?25hRequirement already satisfied: matplotlib>=3.0.3 in /usr/local/lib/python3.7/dist-packages (from axelrod) (3.2.2)\n",
            "Collecting prompt-toolkit>=3.0\n",
            "  Downloading prompt_toolkit-3.0.31-py3-none-any.whl (382 kB)\n",
            "\u001b[K     |████████████████████████████████| 382 kB 46.7 MB/s \n",
            "\u001b[?25hRequirement already satisfied: partd>=0.3.10 in /usr/local/lib/python3.7/dist-packages (from dask>=2.9.2->axelrod) (1.3.0)\n",
            "Requirement already satisfied: packaging>=20.0 in /usr/local/lib/python3.7/dist-packages (from dask>=2.9.2->axelrod) (21.3)\n",
            "Requirement already satisfied: python-dateutil>=2.1 in /usr/local/lib/python3.7/dist-packages (from matplotlib>=3.0.3->axelrod) (2.8.2)\n",
            "Requirement already satisfied: cycler>=0.10 in /usr/local/lib/python3.7/dist-packages (from matplotlib>=3.0.3->axelrod) (0.11.0)\n",
            "Requirement already satisfied: kiwisolver>=1.0.1 in /usr/local/lib/python3.7/dist-packages (from matplotlib>=3.0.3->axelrod) (1.4.4)\n",
            "Requirement already satisfied: pyparsing!=2.0.4,!=2.1.2,!=2.1.6,>=2.0.1 in /usr/local/lib/python3.7/dist-packages (from matplotlib>=3.0.3->axelrod) (3.0.9)\n",
            "Requirement already satisfied: typing-extensions in /usr/local/lib/python3.7/dist-packages (from kiwisolver>=1.0.1->matplotlib>=3.0.3->axelrod) (4.1.1)\n",
            "Requirement already satisfied: pytz>=2017.3 in /usr/local/lib/python3.7/dist-packages (from pandas>=1.0.0->axelrod) (2022.2.1)\n",
            "Requirement already satisfied: locket in /usr/local/lib/python3.7/dist-packages (from partd>=0.3.10->dask>=2.9.2->axelrod) (1.0.0)\n",
            "Requirement already satisfied: wcwidth in /usr/local/lib/python3.7/dist-packages (from prompt-toolkit>=3.0->axelrod) (0.2.5)\n",
            "Requirement already satisfied: six>=1.5 in /usr/local/lib/python3.7/dist-packages (from python-dateutil>=2.1->matplotlib>=3.0.3->axelrod) (1.15.0)\n",
            "Installing collected packages: prompt-toolkit, docutils, axelrod\n",
            "  Attempting uninstall: prompt-toolkit\n",
            "    Found existing installation: prompt-toolkit 2.0.10\n",
            "    Uninstalling prompt-toolkit-2.0.10:\n",
            "      Successfully uninstalled prompt-toolkit-2.0.10\n",
            "  Attempting uninstall: docutils\n",
            "    Found existing installation: docutils 0.17.1\n",
            "    Uninstalling docutils-0.17.1:\n",
            "      Successfully uninstalled docutils-0.17.1\n",
            "\u001b[31mERROR: pip's dependency resolver does not currently take into account all the packages that are installed. This behaviour is the source of the following dependency conflicts.\n",
            "google-colab 1.0.0 requires ipython~=7.9.0, but you have ipython 7.34.0 which is incompatible.\u001b[0m\n",
            "Successfully installed axelrod-4.12.0 docutils-0.17 prompt-toolkit-3.0.31\n"
          ]
        },
        {
          "output_type": "display_data",
          "data": {
            "application/vnd.colab-display-data+json": {
              "pip_warning": {
                "packages": [
                  "prompt_toolkit"
                ]
              }
            }
          },
          "metadata": {}
        }
      ]
    },
    {
      "cell_type": "code",
      "metadata": {
        "id": "D-rB1BgYI5Aa",
        "colab": {
          "base_uri": "https://localhost:8080/"
        },
        "outputId": "cbce6ee0-2556-4f3d-ac0a-0ed1ca2d1995"
      },
      "source": [
        "# Create the payoff matrix\n",
        "\n",
        "P1 =  np.array([[8,1],[15,3]]) # P1 is the row player\n",
        "P2 =  np.array([[8,15],[1,3]]) # P2 is the column player\n",
        "pd =  nash.Game(P1,P2)\n",
        "pd\n"
      ],
      "execution_count": null,
      "outputs": [
        {
          "output_type": "execute_result",
          "data": {
            "text/plain": [
              "Bi matrix game with payoff matrices:\n",
              "\n",
              "Row player:\n",
              "[[ 8  1]\n",
              " [15  3]]\n",
              "\n",
              "Column player:\n",
              "[[ 8 15]\n",
              " [ 1  3]]"
            ]
          },
          "metadata": {},
          "execution_count": 3
        }
      ]
    },
    {
      "cell_type": "markdown",
      "metadata": {
        "id": "mapgZsumI5Ae"
      },
      "source": [
        "### Exercise: Create a two player game, where,\n",
        "\n",
        "#### I. Name players as A and B\n",
        "#### II. Name the game as 'gm' and \n",
        "#### III. Use the follwing matrix\n",
        "\n",
        "![picture](https://drive.google.com/uc?id=1eHhyXZVZWQ3oPto4qcbL1EefxUsWq4bp)\n"
      ]
    },
    {
      "cell_type": "code",
      "metadata": {
        "id": "LBZatKa-I5Af",
        "colab": {
          "base_uri": "https://localhost:8080/"
        },
        "outputId": "0c58af0e-ee09-4890-c8ba-4a01efddebbb"
      },
      "source": [
        "A = np.array([[5,17],[14,12]])\n",
        "B = np.array([[15,16],[2,8]])\n",
        "gm = nash.Game(A,B)\n",
        "gm"
      ],
      "execution_count": null,
      "outputs": [
        {
          "output_type": "execute_result",
          "data": {
            "text/plain": [
              "Bi matrix game with payoff matrices:\n",
              "\n",
              "Row player:\n",
              "[[ 5 17]\n",
              " [14 12]]\n",
              "\n",
              "Column player:\n",
              "[[15 16]\n",
              " [ 2  8]]"
            ]
          },
          "metadata": {},
          "execution_count": 4
        }
      ]
    },
    {
      "cell_type": "markdown",
      "metadata": {
        "id": "CvPz8NuJI5Aj"
      },
      "source": [
        "## 2. Mixed Strategy and Utilities"
      ]
    },
    {
      "cell_type": "markdown",
      "metadata": {
        "id": "6-_cqcSQI5Ak"
      },
      "source": [
        "### Pure Strategy: \n",
        "\n",
        "A complete definition of how a player will play a game, it yields optimum payoff to the player. \n",
        "\n",
        "### Mixed Strategy: \n",
        "\n",
        "Assigns a probability to each pure strategy. This allows for a player to randomly select a pure strategy. "
      ]
    },
    {
      "cell_type": "markdown",
      "metadata": {
        "id": "sV3SS2IKI5Am"
      },
      "source": [
        "### Calculating Utilities:\n",
        "\n",
        "![picture](https://drive.google.com/uc?id=1eIMuJo8w5EgJC5mLaxT9kzH8-rdQwm3_)\n",
        "\n",
        "#### Consider the following Mixed Strategy\n",
        "\n",
        "σr=(.2,.8) and σc=(.6,.4)\n"
      ]
    },
    {
      "cell_type": "code",
      "metadata": {
        "id": "XPaaw8GXI5An",
        "colab": {
          "base_uri": "https://localhost:8080/"
        },
        "outputId": "39992d2b-9576-4de6-c8be-b6d09347aaa0"
      },
      "source": [
        "# Calculate Utilities\n",
        "\n",
        "sigma_r = np.array([.2,.8])\n",
        "sigma_c = np.array([.6,.4])\n",
        "pd = nash.Game(P1, P2)\n",
        "pd[sigma_r, sigma_c]"
      ],
      "execution_count": null,
      "outputs": [
        {
          "output_type": "execute_result",
          "data": {
            "text/plain": [
              "array([9.2, 3.6])"
            ]
          },
          "metadata": {},
          "execution_count": 5
        }
      ]
    },
    {
      "cell_type": "markdown",
      "metadata": {
        "id": "-nGQbdBQI5A0"
      },
      "source": [
        "### Validate the computation"
      ]
    },
    {
      "cell_type": "code",
      "metadata": {
        "id": "pmuAEpSII5Ar",
        "colab": {
          "base_uri": "https://localhost:8080/"
        },
        "outputId": "af724819-efe8-4b81-a72c-fdac71bc38ac"
      },
      "source": [
        "#ur(σr,σc)\n",
        "ur=0.2*0.6*8+0.2*0.4*1+0.8*0.6*15+0.8*0.4*3\n",
        "ur"
      ],
      "execution_count": null,
      "outputs": [
        {
          "output_type": "execute_result",
          "data": {
            "text/plain": [
              "9.2"
            ]
          },
          "metadata": {},
          "execution_count": 6
        }
      ]
    },
    {
      "cell_type": "code",
      "metadata": {
        "id": "W6KZrnGxI5Au",
        "colab": {
          "base_uri": "https://localhost:8080/"
        },
        "outputId": "ef25822f-9c5f-4769-e257-ab0a834d72ea"
      },
      "source": [
        "#uc(σr,σc)\n",
        "uc=0.2*0.6*8+0.2*0.4*15+0.8*0.6*1+0.8*0.4*3\n",
        "uc"
      ],
      "execution_count": null,
      "outputs": [
        {
          "output_type": "execute_result",
          "data": {
            "text/plain": [
              "3.6000000000000005"
            ]
          },
          "metadata": {},
          "execution_count": 7
        }
      ]
    },
    {
      "cell_type": "markdown",
      "metadata": {
        "id": "Y28VJqzfI5A2"
      },
      "source": [
        "### Exercise: Calculate the utilities of the game 'gm' created in the previous exercise, using \n",
        "#### σr=(.3,.7) and σc=(.5,.5)"
      ]
    },
    {
      "cell_type": "code",
      "metadata": {
        "id": "qf6LY92kI5A3",
        "colab": {
          "base_uri": "https://localhost:8080/"
        },
        "outputId": "6236fc2f-1083-43d7-9240-3cbc52fb582d"
      },
      "source": [
        "sigma_c2 = np.array([.3,.7])\n",
        "sigma_r2 = np.array([.5,.6])\n",
        "pd = nash.Game(A,B)\n",
        "pd [sigma_c2, sigma_r2]"
      ],
      "execution_count": null,
      "outputs": [
        {
          "output_type": "execute_result",
          "data": {
            "text/plain": [
              "array([13.75,  9.19])"
            ]
          },
          "metadata": {},
          "execution_count": 8
        }
      ]
    },
    {
      "cell_type": "markdown",
      "metadata": {
        "id": "sF4K0KlOI5A7"
      },
      "source": [
        "## 3. The Nash Equilibrium\n",
        "\n",
        "Strict and unique Nash Equilibrium\n",
        "\n",
        "![picture](https://drive.google.com/uc?id=1_B9Wk5Sb1jwK1AADXR1xj9n0tmALNykM)"
      ]
    },
    {
      "cell_type": "code",
      "metadata": {
        "id": "H9mFNqgOI5A8",
        "colab": {
          "base_uri": "https://localhost:8080/"
        },
        "outputId": "53eb585b-fa73-431b-f29c-74923cb348be"
      },
      "source": [
        "# Find the Nash Equilibrium with Support Enumeration\n",
        "\n",
        "equilibria = pd.support_enumeration()\n",
        "for eq in equilibria:\n",
        "  print(eq)"
      ],
      "execution_count": null,
      "outputs": [
        {
          "output_type": "stream",
          "name": "stdout",
          "text": [
            "(array([1., 0.]), array([0., 1.]))\n"
          ]
        }
      ]
    },
    {
      "cell_type": "markdown",
      "metadata": {
        "id": "faBuCYODI5A_"
      },
      "source": [
        "#### Both solutions match"
      ]
    },
    {
      "cell_type": "markdown",
      "metadata": {
        "id": "7nFjsLoUI5BA"
      },
      "source": [
        "### Exercise: Find out the Nash Equilibrium for gm"
      ]
    },
    {
      "cell_type": "code",
      "metadata": {
        "id": "-WDnIp6SI5BB",
        "colab": {
          "base_uri": "https://localhost:8080/"
        },
        "outputId": "6486c84b-ed8e-4aa0-81d6-0af3c5d10fd9"
      },
      "source": [
        "equilibria = pd.support_enumeration()\n",
        "for eq in equilibria:\n",
        "  print(eq)"
      ],
      "execution_count": null,
      "outputs": [
        {
          "output_type": "stream",
          "name": "stdout",
          "text": [
            "(array([1., 0.]), array([0., 1.]))\n"
          ]
        }
      ]
    },
    {
      "cell_type": "markdown",
      "metadata": {
        "id": "NY2yrKJNI5BG"
      },
      "source": [
        "## 4. Games with Multiple Nash Equilibria\n",
        "\n",
        "### Hawk - Dove Game\n",
        "\n",
        "![picture](https://drive.google.com/uc?id=1b8kKho3qu1s5b7Qriq6NYWqJxd5uKI6x)"
      ]
    },
    {
      "cell_type": "code",
      "metadata": {
        "id": "aQg_1AIMI5BG",
        "colab": {
          "base_uri": "https://localhost:8080/"
        },
        "outputId": "9ed9313e-2dcb-4d1a-cb34-e2db6428d898"
      },
      "source": [
        "P3 =  np.array([[3,1],[4,0]]) # P3 is the row player\n",
        "P4 =  np.array([[3,4],[1,0]]) # P4 is the column player\n",
        "hd =  nash.Game(P3,P4)\n",
        "hd"
      ],
      "execution_count": null,
      "outputs": [
        {
          "output_type": "execute_result",
          "data": {
            "text/plain": [
              "Bi matrix game with payoff matrices:\n",
              "\n",
              "Row player:\n",
              "[[3 1]\n",
              " [4 0]]\n",
              "\n",
              "Column player:\n",
              "[[3 4]\n",
              " [1 0]]"
            ]
          },
          "metadata": {},
          "execution_count": 11
        }
      ]
    },
    {
      "cell_type": "markdown",
      "metadata": {
        "id": "HdUrrBQ9I5BK"
      },
      "source": [
        "#### Nash Equilibria\n",
        "\n",
        "![picture](https://drive.google.com/uc?id=1JJxdwZ3y6U_hxMH-0l4i6LpuuTVhF5w0)\n"
      ]
    },
    {
      "cell_type": "code",
      "metadata": {
        "id": "BiVKP_72I5BL",
        "colab": {
          "base_uri": "https://localhost:8080/"
        },
        "outputId": "d5bd03f2-63f6-43d4-a99f-d69e5425317d"
      },
      "source": [
        "equilibria = hd.support_enumeration()\n",
        "for eq in equilibria:\n",
        "  print(eq)"
      ],
      "execution_count": null,
      "outputs": [
        {
          "output_type": "stream",
          "name": "stdout",
          "text": [
            "(array([1., 0.]), array([0., 1.]))\n",
            "(array([0., 1.]), array([1., 0.]))\n",
            "(array([0.5, 0.5]), array([0.5, 0.5]))\n"
          ]
        }
      ]
    },
    {
      "cell_type": "markdown",
      "metadata": {
        "id": "Xolws3tSI5BO"
      },
      "source": [
        "Sol. (D,H)\n",
        "\n",
        "P3 : D = 1, H = 0\n",
        "\n",
        "P4 : D = 0, H = 1\n",
        "\n",
        "Sol. (H,D)\n",
        "\n",
        "P3 : D = 0, H = 1\n",
        "\n",
        "P4 : D = 1, H = 0\n",
        "\n",
        "Sol. (D,D) or (H,H)\n",
        "\n",
        "P3 : D = 0.5, H = 0.5\n",
        "\n",
        "P4 : D = 0.5, H = 0.5\n"
      ]
    },
    {
      "cell_type": "markdown",
      "metadata": {
        "id": "iVaY16XNI5BO"
      },
      "source": [
        "### Exercise: Find out the number of NE for the following matrix\n",
        "#### Players: M and N\n",
        "#### Name of game mn\n",
        "\n",
        "\n",
        "![picture](https://drive.google.com/uc?id=1mAeVXw3qHTyzEx4kgMsOlyrP6rJvpKlN)"
      ]
    },
    {
      "cell_type": "code",
      "metadata": {
        "id": "4NW4qyI4I5BP",
        "colab": {
          "base_uri": "https://localhost:8080/"
        },
        "outputId": "47e46ab9-6129-411c-ca13-29d992d56138"
      },
      "source": [
        "M = np.array([[1,1,3,2],[2,3,4,3],[5,1,1,4]])\n",
        "N = np.array([[3,2,2,4],[1,4,2,0],[3,3,2,3]])\n",
        "MN = nash.Game(M,N)\n",
        "MN"
      ],
      "execution_count": null,
      "outputs": [
        {
          "output_type": "execute_result",
          "data": {
            "text/plain": [
              "Bi matrix game with payoff matrices:\n",
              "\n",
              "Row player:\n",
              "[[1 1 3 2]\n",
              " [2 3 4 3]\n",
              " [5 1 1 4]]\n",
              "\n",
              "Column player:\n",
              "[[3 2 2 4]\n",
              " [1 4 2 0]\n",
              " [3 3 2 3]]"
            ]
          },
          "metadata": {},
          "execution_count": 13
        }
      ]
    },
    {
      "cell_type": "code",
      "metadata": {
        "id": "dbR3SnMPI5BS",
        "colab": {
          "base_uri": "https://localhost:8080/"
        },
        "outputId": "556eaf27-a253-4cd7-a426-e6c8469b4bf0"
      },
      "source": [
        "equilibria = MN.support_enumeration()\n",
        "for eq in equilibria:\n",
        "  print(eq)"
      ],
      "execution_count": null,
      "outputs": [
        {
          "output_type": "stream",
          "name": "stdout",
          "text": [
            "(array([0., 1., 0.]), array([0., 1., 0., 0.]))\n",
            "(array([0., 0., 1.]), array([1., 0., 0., 0.]))\n",
            "(array([0., 0., 1.]), array([0., 0., 0., 1.]))\n"
          ]
        }
      ]
    },
    {
      "cell_type": "markdown",
      "metadata": {
        "id": "I2_Z8uVlI5BW"
      },
      "source": [
        "![picture](https://drive.google.com/uc?id=11UeEgrEh4VYWYAMwyvwLVGZlHT7On2Eo)"
      ]
    },
    {
      "cell_type": "markdown",
      "metadata": {
        "id": "5NhqPum6I5BX"
      },
      "source": [
        "## 5. Zero Sum Game\n",
        "\n",
        "Matching the pennies game\n",
        "\n",
        "![picture](https://drive.google.com/uc?id=1DJhLFiRbUah8Cvku03oGP5C2eFuDPxBQ)"
      ]
    },
    {
      "cell_type": "code",
      "metadata": {
        "id": "3w_YHAZTI5BX",
        "colab": {
          "base_uri": "https://localhost:8080/"
        },
        "outputId": "3b33bf4d-aaf0-4040-9bc4-f8691e70875d"
      },
      "source": [
        "P5 = np.array([[1,-1],[-1,1]])\n",
        "mp = nash.Game(P5)\n",
        "mp"
      ],
      "execution_count": null,
      "outputs": [
        {
          "output_type": "execute_result",
          "data": {
            "text/plain": [
              "Zero sum game with payoff matrices:\n",
              "\n",
              "Row player:\n",
              "[[ 1 -1]\n",
              " [-1  1]]\n",
              "\n",
              "Column player:\n",
              "[[-1  1]\n",
              " [ 1 -1]]"
            ]
          },
          "metadata": {},
          "execution_count": 15
        }
      ]
    },
    {
      "cell_type": "code",
      "metadata": {
        "id": "U9bM_W8eI5Bg",
        "colab": {
          "base_uri": "https://localhost:8080/"
        },
        "outputId": "6e1364c2-7479-4d45-aba3-068d7bbca3a6"
      },
      "source": [
        "equilibria = mp.support_enumeration()\n",
        "for eq in equilibria:\n",
        "  print(eq)"
      ],
      "execution_count": null,
      "outputs": [
        {
          "output_type": "stream",
          "name": "stdout",
          "text": [
            "(array([0.5, 0.5]), array([0.5, 0.5]))\n"
          ]
        }
      ]
    },
    {
      "cell_type": "markdown",
      "metadata": {
        "id": "AwgfpFL-I5Bk"
      },
      "source": [
        "### Exercise: Find out the solution for the following zero sum game 'zs'\n",
        "#### Use payoff matrix - np.array([[5, -6.5], [-2.5, 7]]) \n",
        "#### For players Z1 and Z2"
      ]
    },
    {
      "cell_type": "code",
      "metadata": {
        "id": "B9ypJKPZI5Bl",
        "colab": {
          "base_uri": "https://localhost:8080/"
        },
        "outputId": "c18bf740-79c5-4927-daa3-2e3c418b9060"
      },
      "source": [
        "Z1 = np.array([[5, -6.5], [-2.5, 7]])\n",
        "ZS = nash.Game(Z1)\n",
        "ZS"
      ],
      "execution_count": null,
      "outputs": [
        {
          "output_type": "execute_result",
          "data": {
            "text/plain": [
              "Zero sum game with payoff matrices:\n",
              "\n",
              "Row player:\n",
              "[[ 5.  -6.5]\n",
              " [-2.5  7. ]]\n",
              "\n",
              "Column player:\n",
              "[[-5.   6.5]\n",
              " [ 2.5 -7. ]]"
            ]
          },
          "metadata": {},
          "execution_count": 17
        }
      ]
    },
    {
      "cell_type": "code",
      "metadata": {
        "id": "9qPZdieaI5Bo",
        "colab": {
          "base_uri": "https://localhost:8080/"
        },
        "outputId": "99b29f08-2b9c-4d51-84e9-57575344264a"
      },
      "source": [
        "equilibria = ZS.support_enumeration()\n",
        "for eq in equilibria:\n",
        "  print(eq)"
      ],
      "execution_count": null,
      "outputs": [
        {
          "output_type": "stream",
          "name": "stdout",
          "text": [
            "(array([0.45238095, 0.54761905]), array([0.64285714, 0.35714286]))\n"
          ]
        }
      ]
    },
    {
      "cell_type": "markdown",
      "metadata": {
        "id": "eVM0LDlfI5Br"
      },
      "source": [
        "## Two Player-Repeated Games with Axelrod"
      ]
    },
    {
      "cell_type": "markdown",
      "metadata": {
        "id": "gJtMM67EI5Bs"
      },
      "source": [
        "## 6. Create repeated game"
      ]
    },
    {
      "cell_type": "code",
      "metadata": {
        "id": "-qiWUNZ2I5Bs",
        "colab": {
          "base_uri": "https://localhost:8080/"
        },
        "outputId": "287fd151-c264-4ed2-80aa-cb1738a652df"
      },
      "source": [
        "!pip install -U pyYAML     # Troubleshoot: Execute this line if Axelrod does not run and AttributeError: module 'yaml' has no attribute 'FullLoader' occurs\n",
        "\n",
        "# Import package\n",
        "\n",
        "import axelrod as axl"
      ],
      "execution_count": null,
      "outputs": [
        {
          "output_type": "stream",
          "name": "stdout",
          "text": [
            "Looking in indexes: https://pypi.org/simple, https://us-python.pkg.dev/colab-wheels/public/simple/\n",
            "Requirement already satisfied: pyYAML in /usr/local/lib/python3.7/dist-packages (6.0)\n"
          ]
        }
      ]
    },
    {
      "cell_type": "code",
      "metadata": {
        "id": "xAlZskFMI5Bv",
        "colab": {
          "base_uri": "https://localhost:8080/"
        },
        "outputId": "e25fa115-4c12-4813-c66a-a1a3eee74697"
      },
      "source": [
        "# Create matches\n",
        "\n",
        "players =  (axl.Cooperator(), axl.Alternator())                 # using players of Cooperator and Alternator strategy\n",
        "match1 =    axl.Match(players, turns=5)                         # play for 5 turns\n",
        "match1.play()"
      ],
      "execution_count": null,
      "outputs": [
        {
          "output_type": "execute_result",
          "data": {
            "text/plain": [
              "[(C, C), (C, D), (C, C), (C, D), (C, C)]"
            ]
          },
          "metadata": {},
          "execution_count": 20
        }
      ]
    },
    {
      "cell_type": "code",
      "metadata": {
        "id": "InpWBSpII5Bx",
        "colab": {
          "base_uri": "https://localhost:8080/"
        },
        "outputId": "83cac94b-2431-43bb-c5ca-3312b0755619"
      },
      "source": [
        "axl.all_strategies"
      ],
      "execution_count": null,
      "outputs": [
        {
          "output_type": "execute_result",
          "data": {
            "text/plain": [
              "[axelrod.strategies.memoryone.ALLCorALLD,\n",
              " axelrod.strategies.memorytwo.AON2,\n",
              " axelrod.strategies.apavlov.APavlov2006,\n",
              " axelrod.strategies.apavlov.APavlov2011,\n",
              " axelrod.strategies.adaptive.Adaptive,\n",
              " axelrod.strategies.titfortat.AdaptiveTitForTat,\n",
              " axelrod.strategies.adaptor.AdaptorBrief,\n",
              " axelrod.strategies.adaptor.AdaptorLong,\n",
              " axelrod.strategies.grudger.Aggravater,\n",
              " axelrod.strategies.titfortat.Alexei,\n",
              " axelrod.strategies.alternator.Alternator,\n",
              " axelrod.strategies.hunter.AlternatorHunter,\n",
              " axelrod.strategies.cycler.AntiCycler,\n",
              " axelrod.strategies.titfortat.AntiTitForTat,\n",
              " axelrod.strategies.appeaser.Appeaser,\n",
              " axelrod.strategies.qlearner.ArrogantQLearner,\n",
              " axelrod.strategies.averagecopier.AverageCopier,\n",
              " axelrod.strategies.backstabber.BackStabber,\n",
              " axelrod.strategies.better_and_better.BetterAndBetter,\n",
              " axelrod.strategies.titfortat.Bully,\n",
              " axelrod.strategies.bush_mosteller.BushMosteller,\n",
              " axelrod.strategies.calculator.Calculator,\n",
              " axelrod.strategies.grudger.Capri,\n",
              " axelrod.strategies.qlearner.CautiousQLearner,\n",
              " axelrod.strategies.prober.CollectiveStrategy,\n",
              " axelrod.strategies.titfortat.ContriteTitForTat,\n",
              " axelrod.strategies.cooperator.Cooperator,\n",
              " axelrod.strategies.hunter.CooperatorHunter,\n",
              " axelrod.strategies.hunter.CycleHunter,\n",
              " axelrod.strategies.cycler.CyclerCCCCCD,\n",
              " axelrod.strategies.cycler.CyclerCCCD,\n",
              " axelrod.strategies.cycler.CyclerCCCDCD,\n",
              " axelrod.strategies.cycler.CyclerCCD,\n",
              " axelrod.strategies.cycler.CyclerDC,\n",
              " axelrod.strategies.cycler.CyclerDDC,\n",
              " axelrod.strategies.dbs.DBS,\n",
              " axelrod.strategies.darwin.Darwin,\n",
              " axelrod.strategies.defector.Defector,\n",
              " axelrod.strategies.hunter.DefectorHunter,\n",
              " axelrod.strategies.memorytwo.DelayedAON1,\n",
              " axelrod.strategies.mutual.Desperate,\n",
              " axelrod.strategies.prober.Detective,\n",
              " axelrod.strategies.backstabber.DoubleCrosser,\n",
              " axelrod.strategies.resurrection.DoubleResurrection,\n",
              " axelrod.strategies.doubler.Doubler,\n",
              " axelrod.strategies.titfortat.DynamicTwoTitsForTat,\n",
              " axelrod.strategies.grudger.EasyGo,\n",
              " axelrod.strategies.titfortat.EugineNier,\n",
              " axelrod.strategies.hunter.EventualCycleHunter,\n",
              " axelrod.strategies.ann.EvolvedANN,\n",
              " axelrod.strategies.ann.EvolvedANN5,\n",
              " axelrod.strategies.ann.EvolvedANNNoise05,\n",
              " axelrod.strategies.finite_state_machines.EvolvedFSM16,\n",
              " axelrod.strategies.finite_state_machines.EvolvedFSM16Noise05,\n",
              " axelrod.strategies.finite_state_machines.EvolvedFSM4,\n",
              " axelrod.strategies.finite_state_machines.EvolvedFSM6,\n",
              " axelrod.strategies.hmm.EvolvedHMM5,\n",
              " axelrod.strategies.lookerup.EvolvedLookerUp1_1_1,\n",
              " axelrod.strategies.lookerup.EvolvedLookerUp2_2_2,\n",
              " axelrod.strategies.memoryone.FirmButFair,\n",
              " axelrod.strategies.axelrod_first.FirstByAnonymous,\n",
              " axelrod.strategies.axelrod_first.FirstByDavis,\n",
              " axelrod.strategies.axelrod_first.FirstByDowning,\n",
              " axelrod.strategies.axelrod_first.FirstByFeld,\n",
              " axelrod.strategies.axelrod_first.FirstByGraaskamp,\n",
              " axelrod.strategies.axelrod_first.FirstByGrofman,\n",
              " axelrod.strategies.axelrod_first.FirstByJoss,\n",
              " axelrod.strategies.axelrod_first.FirstByNydegger,\n",
              " axelrod.strategies.axelrod_first.FirstByShubik,\n",
              " axelrod.strategies.axelrod_first.FirstBySteinAndRapoport,\n",
              " axelrod.strategies.axelrod_first.FirstByTidemanAndChieruzzi,\n",
              " axelrod.strategies.axelrod_first.FirstByTullock,\n",
              " axelrod.strategies.oncebitten.FoolMeOnce,\n",
              " axelrod.strategies.oncebitten.ForgetfulFoolMeOnce,\n",
              " axelrod.strategies.grudger.ForgetfulGrudger,\n",
              " axelrod.strategies.forgiver.Forgiver,\n",
              " axelrod.strategies.forgiver.ForgivingTitForTat,\n",
              " axelrod.strategies.finite_state_machines.Fortress3,\n",
              " axelrod.strategies.finite_state_machines.Fortress4,\n",
              " axelrod.strategies.memoryone.GTFT,\n",
              " axelrod.strategies.grudger.GeneralSoftGrudger,\n",
              " axelrod.strategies.gobymajority.GoByMajority,\n",
              " axelrod.strategies.gobymajority.GoByMajority10,\n",
              " axelrod.strategies.gobymajority.GoByMajority20,\n",
              " axelrod.strategies.gobymajority.GoByMajority40,\n",
              " axelrod.strategies.gobymajority.GoByMajority5,\n",
              " axelrod.strategies.mathematicalconstants.Golden,\n",
              " axelrod.strategies.titfortat.Gradual,\n",
              " axelrod.strategies.gradualkiller.GradualKiller,\n",
              " axelrod.strategies.grudger.Grudger,\n",
              " axelrod.strategies.grudger.GrudgerAlternator,\n",
              " axelrod.strategies.grumpy.Grumpy,\n",
              " axelrod.strategies.handshake.Handshake,\n",
              " axelrod.strategies.gobymajority.HardGoByMajority,\n",
              " axelrod.strategies.gobymajority.HardGoByMajority10,\n",
              " axelrod.strategies.gobymajority.HardGoByMajority20,\n",
              " axelrod.strategies.gobymajority.HardGoByMajority40,\n",
              " axelrod.strategies.gobymajority.HardGoByMajority5,\n",
              " axelrod.strategies.prober.HardProber,\n",
              " axelrod.strategies.titfortat.HardTitFor2Tats,\n",
              " axelrod.strategies.titfortat.HardTitForTat,\n",
              " axelrod.strategies.qlearner.HesitantQLearner,\n",
              " axelrod.strategies.mutual.Hopeless,\n",
              " axelrod.strategies.inverse.Inverse,\n",
              " axelrod.strategies.punisher.InversePunisher,\n",
              " axelrod.strategies.worse_and_worse.KnowledgeableWorseAndWorse,\n",
              " axelrod.strategies.punisher.LevelPunisher,\n",
              " axelrod.strategies.retaliate.LimitedRetaliate,\n",
              " axelrod.strategies.retaliate.LimitedRetaliate2,\n",
              " axelrod.strategies.retaliate.LimitedRetaliate3,\n",
              " axelrod.strategies.memorytwo.MEM2,\n",
              " axelrod.strategies.hunter.MathConstantHunter,\n",
              " axelrod.strategies.titfortat.Michaelos,\n",
              " axelrod.strategies.titfortat.NTitsForMTats,\n",
              " axelrod.strategies.prober.NaiveProber,\n",
              " axelrod.strategies.negation.Negation,\n",
              " axelrod.strategies.averagecopier.NiceAverageCopier,\n",
              " axelrod.strategies.titfortat.OmegaTFT,\n",
              " axelrod.strategies.oncebitten.OnceBitten,\n",
              " axelrod.strategies.grudger.OppositeGrudger,\n",
              " axelrod.strategies.titfortat.OriginalGradual,\n",
              " axelrod.strategies.gambler.PSOGambler1_1_1,\n",
              " axelrod.strategies.gambler.PSOGambler2_2_2,\n",
              " axelrod.strategies.gambler.PSOGambler2_2_2_Noise05,\n",
              " axelrod.strategies.gambler.PSOGamblerMem1,\n",
              " axelrod.strategies.mathematicalconstants.Pi,\n",
              " axelrod.strategies.finite_state_machines.Predator,\n",
              " axelrod.strategies.prober.Prober,\n",
              " axelrod.strategies.prober.Prober2,\n",
              " axelrod.strategies.prober.Prober3,\n",
              " axelrod.strategies.prober.Prober4,\n",
              " axelrod.strategies.finite_state_machines.Pun1,\n",
              " axelrod.strategies.punisher.Punisher,\n",
              " axelrod.strategies.finite_state_machines.Raider,\n",
              " axelrod.strategies.rand.Random,\n",
              " axelrod.strategies.hunter.RandomHunter,\n",
              " axelrod.strategies.titfortat.RandomTitForTat,\n",
              " axelrod.strategies.prober.RemorsefulProber,\n",
              " axelrod.strategies.resurrection.Resurrection,\n",
              " axelrod.strategies.retaliate.Retaliate,\n",
              " axelrod.strategies.retaliate.Retaliate2,\n",
              " axelrod.strategies.retaliate.Retaliate3,\n",
              " axelrod.strategies.revised_downing.RevisedDowning,\n",
              " axelrod.strategies.finite_state_machines.Ripoff,\n",
              " axelrod.strategies.qlearner.RiskyQLearner,\n",
              " axelrod.strategies.axelrod_second.SecondByAppold,\n",
              " axelrod.strategies.axelrod_second.SecondByBlack,\n",
              " axelrod.strategies.axelrod_second.SecondByBorufsen,\n",
              " axelrod.strategies.axelrod_second.SecondByCave,\n",
              " axelrod.strategies.axelrod_second.SecondByChampion,\n",
              " axelrod.strategies.axelrod_second.SecondByColbert,\n",
              " axelrod.strategies.axelrod_second.SecondByEatherley,\n",
              " axelrod.strategies.axelrod_second.SecondByGetzler,\n",
              " axelrod.strategies.axelrod_second.SecondByGladstein,\n",
              " axelrod.strategies.axelrod_second.SecondByGraaskampKatzen,\n",
              " axelrod.strategies.axelrod_second.SecondByGrofman,\n",
              " axelrod.strategies.axelrod_second.SecondByHarrington,\n",
              " axelrod.strategies.axelrod_second.SecondByKluepfel,\n",
              " axelrod.strategies.axelrod_second.SecondByLeyvraz,\n",
              " axelrod.strategies.axelrod_second.SecondByMikkelson,\n",
              " axelrod.strategies.axelrod_second.SecondByRichardHufford,\n",
              " axelrod.strategies.axelrod_second.SecondByRowsam,\n",
              " axelrod.strategies.axelrod_second.SecondByTester,\n",
              " axelrod.strategies.axelrod_second.SecondByTidemanAndChieruzzi,\n",
              " axelrod.strategies.axelrod_second.SecondByTranquilizer,\n",
              " axelrod.strategies.axelrod_second.SecondByWeiner,\n",
              " axelrod.strategies.axelrod_second.SecondByWhite,\n",
              " axelrod.strategies.axelrod_second.SecondByWmAdams,\n",
              " axelrod.strategies.axelrod_second.SecondByYamachi,\n",
              " axelrod.strategies.selfsteem.SelfSteem,\n",
              " axelrod.strategies.shortmem.ShortMem,\n",
              " axelrod.strategies.titfortat.SlowTitForTwoTats2,\n",
              " axelrod.strategies.titfortat.SneakyTitForTat,\n",
              " axelrod.strategies.grudger.SoftGrudger,\n",
              " axelrod.strategies.memoryone.SoftJoss,\n",
              " axelrod.strategies.finite_state_machines.SolutionB1,\n",
              " axelrod.strategies.finite_state_machines.SolutionB5,\n",
              " axelrod.strategies.titfortat.SpitefulTitForTat,\n",
              " axelrod.strategies.grudger.SpitefulCC,\n",
              " axelrod.strategies.stalker.Stalker,\n",
              " axelrod.strategies.memoryone.StochasticCooperator,\n",
              " axelrod.strategies.memoryone.StochasticWSLS,\n",
              " axelrod.strategies.titfortat.SuspiciousTitForTat,\n",
              " axelrod.strategies.finite_state_machines.TF1,\n",
              " axelrod.strategies.finite_state_machines.TF2,\n",
              " axelrod.strategies.finite_state_machines.TF3,\n",
              " axelrod.strategies.sequence_player.ThueMorse,\n",
              " axelrod.strategies.sequence_player.ThueMorseInverse,\n",
              " axelrod.strategies.finite_state_machines.Thumper,\n",
              " axelrod.strategies.titfortat.TitFor2Tats,\n",
              " axelrod.strategies.titfortat.TitForTat,\n",
              " axelrod.strategies.cooperator.TrickyCooperator,\n",
              " axelrod.strategies.defector.TrickyDefector,\n",
              " axelrod.strategies.punisher.TrickyLevelPunisher,\n",
              " axelrod.strategies.titfortat.TwoTitsForTat,\n",
              " axelrod.strategies.finite_state_machines.UsuallyCooperates,\n",
              " axelrod.strategies.finite_state_machines.UsuallyDefects,\n",
              " axelrod.strategies.verybad.VeryBad,\n",
              " axelrod.strategies.mutual.Willing,\n",
              " axelrod.strategies.memoryone.WinShiftLoseStay,\n",
              " axelrod.strategies.memoryone.WinStayLoseShift,\n",
              " axelrod.strategies.lookerup.Winner12,\n",
              " axelrod.strategies.lookerup.Winner21,\n",
              " axelrod.strategies.worse_and_worse.WorseAndWorse,\n",
              " axelrod.strategies.worse_and_worse.WorseAndWorse2,\n",
              " axelrod.strategies.worse_and_worse.WorseAndWorse3,\n",
              " axelrod.strategies.zero_determinant.ZDExtort2,\n",
              " axelrod.strategies.zero_determinant.ZDExtort2v2,\n",
              " axelrod.strategies.zero_determinant.ZDExtort3,\n",
              " axelrod.strategies.zero_determinant.ZDExtort4,\n",
              " axelrod.strategies.zero_determinant.ZDExtortion,\n",
              " axelrod.strategies.zero_determinant.ZDGTFT2,\n",
              " axelrod.strategies.zero_determinant.ZDGen2,\n",
              " axelrod.strategies.gambler.ZDMem2,\n",
              " axelrod.strategies.zero_determinant.ZDMischief,\n",
              " axelrod.strategies.zero_determinant.ZDSet2,\n",
              " axelrod.strategies.mathematicalconstants.e,\n",
              " axelrod.strategies.meta.MemoryDecay,\n",
              " axelrod.strategies.meta.MetaHunter,\n",
              " axelrod.strategies.meta.MetaHunterAggressive,\n",
              " axelrod.strategies.meta.MetaMajority,\n",
              " axelrod.strategies.meta.MetaMajorityMemoryOne,\n",
              " axelrod.strategies.meta.MetaMajorityFiniteMemory,\n",
              " axelrod.strategies.meta.MetaMajorityLongMemory,\n",
              " axelrod.strategies.meta.MetaMinority,\n",
              " axelrod.strategies.meta.MetaMixer,\n",
              " axelrod.strategies.meta.MetaWinner,\n",
              " axelrod.strategies.meta.MetaWinnerDeterministic,\n",
              " axelrod.strategies.meta.MetaWinnerEnsemble,\n",
              " axelrod.strategies.meta.MetaWinnerMemoryOne,\n",
              " axelrod.strategies.meta.MetaWinnerFiniteMemory,\n",
              " axelrod.strategies.meta.MetaWinnerLongMemory,\n",
              " axelrod.strategies.meta.MetaWinnerStochastic,\n",
              " axelrod.strategies.meta.NMWEDeterministic,\n",
              " axelrod.strategies.meta.NMWEFiniteMemory,\n",
              " axelrod.strategies.meta.NMWELongMemory,\n",
              " axelrod.strategies.meta.NMWEMemoryOne,\n",
              " axelrod.strategies.meta.NMWEStochastic,\n",
              " axelrod.strategies.meta.NiceMetaWinner,\n",
              " axelrod.strategies.meta.NiceMetaWinnerEnsemble]"
            ]
          },
          "metadata": {},
          "execution_count": 21
        }
      ]
    },
    {
      "cell_type": "markdown",
      "metadata": {
        "id": "ZwEQbFjbI5B2"
      },
      "source": [
        "### Exercise: Create a repeated game with 2 players having:\n",
        "#### I. TitForTat and Random Strategy \n",
        "#### II. Name it as match2\n",
        "#### III. Run it for 15 turns"
      ]
    },
    {
      "cell_type": "code",
      "metadata": {
        "id": "M8tlSW99I5B3",
        "colab": {
          "base_uri": "https://localhost:8080/"
        },
        "outputId": "82370886-d447-4211-8c72-232149f195b8"
      },
      "source": [
        "players = (axl.TitForTat(), axl.Random())\n",
        "match2 = (axl.Match(players, turns=15))\n",
        "match2.play()\n",
        "# best titfortat , cooperator"
      ],
      "execution_count": null,
      "outputs": [
        {
          "output_type": "execute_result",
          "data": {
            "text/plain": [
              "[(C, C),\n",
              " (C, C),\n",
              " (C, D),\n",
              " (D, C),\n",
              " (C, D),\n",
              " (D, D),\n",
              " (D, D),\n",
              " (D, C),\n",
              " (C, D),\n",
              " (D, D),\n",
              " (D, D),\n",
              " (D, D),\n",
              " (D, D),\n",
              " (D, C),\n",
              " (C, C)]"
            ]
          },
          "metadata": {},
          "execution_count": 26
        }
      ]
    },
    {
      "cell_type": "markdown",
      "metadata": {
        "id": "8hZOv2xQI5B_"
      },
      "source": [
        "## 7. Analyze Match"
      ]
    },
    {
      "cell_type": "code",
      "metadata": {
        "id": "eD9qeCgEI5B_",
        "colab": {
          "base_uri": "https://localhost:8080/"
        },
        "outputId": "df14214e-cf80-4453-d73f-bf503c2602ee"
      },
      "source": [
        "# Payoffs\n",
        "\n",
        "match1.game        #Analyze the match\n",
        "\n",
        "#These payoffs are commonly referred to as:\n",
        "\n",
        "#R: the Reward payoff (default value in the library: 3) C-C\n",
        "#P: the Punishment payoff (default value in the library: 1) D-D\n",
        "#S: the Loss payoff (default value in the library: 0) C-D\n",
        "#T: the Temptation payoff (default value in the library: 5) D-C"
      ],
      "execution_count": null,
      "outputs": [
        {
          "output_type": "execute_result",
          "data": {
            "text/plain": [
              "Axelrod game: (R,P,S,T) = (3, 1, 0, 5)"
            ]
          },
          "metadata": {},
          "execution_count": 27
        }
      ]
    },
    {
      "cell_type": "code",
      "metadata": {
        "id": "xs7rQEyZI5CC",
        "colab": {
          "base_uri": "https://localhost:8080/"
        },
        "outputId": "4a037a6b-23a3-4c88-9299-df6e54e268da"
      },
      "source": [
        "# Scores of a match\n",
        "\n",
        "match1.scores()     #Retrieve match scores"
      ],
      "execution_count": null,
      "outputs": [
        {
          "output_type": "execute_result",
          "data": {
            "text/plain": [
              "[(3, 3), (0, 5), (3, 3), (0, 5), (3, 3)]"
            ]
          },
          "metadata": {},
          "execution_count": 28
        }
      ]
    },
    {
      "cell_type": "code",
      "metadata": {
        "id": "zCkP68lJI5CF",
        "colab": {
          "base_uri": "https://localhost:8080/"
        },
        "outputId": "2f8a7a38-6790-4759-e971-2c8cda5e8521"
      },
      "source": [
        "# The result of the match can also be viewed as sparklines where cooperation is shown as a solid block and defection as a space. \n",
        "\n",
        "print (match1.sparklines())  # Get output using sparklines"
      ],
      "execution_count": null,
      "outputs": [
        {
          "output_type": "stream",
          "name": "stdout",
          "text": [
            "█████\n",
            "█ █ █\n"
          ]
        }
      ]
    },
    {
      "cell_type": "markdown",
      "metadata": {
        "id": "rkbk8a-NI5CH"
      },
      "source": [
        "### Exercise: Analyze match2. \n",
        "#### Find the score and create the sparklines"
      ]
    },
    {
      "cell_type": "code",
      "metadata": {
        "id": "snBJkfDJI5CI",
        "colab": {
          "base_uri": "https://localhost:8080/"
        },
        "outputId": "64be4c19-bf6b-4ba7-8004-58ceae91a9bf"
      },
      "source": [
        "match2.scores()"
      ],
      "execution_count": null,
      "outputs": [
        {
          "output_type": "execute_result",
          "data": {
            "text/plain": [
              "[(3, 3),\n",
              " (3, 3),\n",
              " (0, 5),\n",
              " (5, 0),\n",
              " (0, 5),\n",
              " (1, 1),\n",
              " (1, 1),\n",
              " (5, 0),\n",
              " (0, 5),\n",
              " (1, 1),\n",
              " (1, 1),\n",
              " (1, 1),\n",
              " (1, 1),\n",
              " (5, 0),\n",
              " (3, 3)]"
            ]
          },
          "metadata": {},
          "execution_count": 30
        }
      ]
    },
    {
      "cell_type": "code",
      "metadata": {
        "id": "0665Gwk4I5CL",
        "colab": {
          "base_uri": "https://localhost:8080/"
        },
        "outputId": "2eb69cde-aecb-4e93-8398-79e8d8a3f567"
      },
      "source": [
        "print(match2.sparklines())"
      ],
      "execution_count": null,
      "outputs": [
        {
          "output_type": "stream",
          "name": "stdout",
          "text": [
            "███ █   █     █\n",
            "██ █   █     ██\n"
          ]
        }
      ]
    },
    {
      "cell_type": "markdown",
      "metadata": {
        "id": "B9h2o5YmI5CP"
      },
      "source": [
        "#### References:\n",
        "\n",
        "Package Documentations\n",
        "\n",
        "https://nashpy.readthedocs.io/en/stable/index.html#\n",
        "\n",
        "https://axelrod.readthedocs.io/en/stable/#"
      ]
    }
  ]
}